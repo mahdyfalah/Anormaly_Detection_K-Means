{
 "cells": [
  {
   "cell_type": "code",
   "execution_count": 5,
   "outputs": [],
   "source": [
    "import numpy as np\n",
    "import pandas as pd\n",
    "from sklearn.cluster import KMeans\n",
    "import matplotlib.pyplot as plt"
   ],
   "metadata": {
    "collapsed": false,
    "pycharm": {
     "name": "#%%\n"
    }
   }
  },
  {
   "cell_type": "code",
   "execution_count": 17,
   "outputs": [
    {
     "name": "stdout",
     "output_type": "stream",
     "text": [
      "(494020, 42)\n"
     ]
    }
   ],
   "source": [
    "features = pd.read_csv('Dataset/kddcup.names.txt')\n",
    "data = pd.read_csv('kddcup.data_10_percent.txt').to_numpy(dtype='object')\n",
    "\n",
    "print(data.shape)\n",
    "rows = data.shape[0]\n",
    "columns = data.shape[1]"
   ],
   "metadata": {
    "collapsed": false,
    "pycharm": {
     "name": "#%%\n"
    }
   }
  },
  {
   "cell_type": "code",
   "execution_count": 30,
   "outputs": [
    {
     "name": "stdout",
     "output_type": "stream",
     "text": [
      "[1, 2, 3, 41]\n",
      "[[['tcp' 'http' 'SF' 'normal.']\n",
      "  ['tcp' 'http' 'SF' 'normal.']\n",
      "  ['tcp' 'http' 'SF' 'normal.']\n",
      "  ...\n",
      "  ['tcp' 'http' 'SF' 'normal.']\n",
      "  ['tcp' 'http' 'SF' 'normal.']\n",
      "  ['tcp' 'http' 'SF' 'normal.']]]\n",
      "['normal.' 'normal.' 'normal.' ... 'normal.' 'normal.' 'normal.']\n"
     ]
    }
   ],
   "source": [
    "# store non number features\n",
    "NaN_features_idx = []\n",
    "for i in range(columns):\n",
    "    if type(data[0][i]) == str:\n",
    "        NaN_features_idx.append(i)\n",
    "\n",
    "print(NaN_features_idx)\n",
    "\n",
    "NaN_data = np.array([data[:,NaN_features_idx]])\n",
    "print(NaN_data)\n",
    "\n",
    "labels = np.array(data[:,-1])\n",
    "print(labels)"
   ],
   "metadata": {
    "collapsed": false,
    "pycharm": {
     "name": "#%%\n"
    }
   }
  },
  {
   "cell_type": "code",
   "execution_count": 34,
   "outputs": [
    {
     "data": {
      "text/plain": "array([0, 239, 486, 0, 0, 0, 0, 0, 1, 0, 0, 0, 0, 0, 0, 0, 0, 0, 0, 8, 8,\n       0.0, 0.0, 0.0, 0.0, 1.0, 0.0, 0.0, 19, 19, 1.0, 0.0, 0.05, 0.0,\n       0.0, 0.0, 0.0, 0.0], dtype=object)"
     },
     "execution_count": 34,
     "metadata": {},
     "output_type": "execute_result"
    }
   ],
   "source": [
    "# data with no NaN\n",
    "features_idx = []\n",
    "for i in range(columns):\n",
    "    if i not in NaN_features_idx:\n",
    "        features_idx.append(i)\n",
    "\n",
    "features = np.array(data[:, features_idx])\n",
    "\n",
    "features[0]"
   ],
   "metadata": {
    "collapsed": false,
    "pycharm": {
     "name": "#%%\n"
    }
   }
  },
  {
   "cell_type": "code",
   "execution_count": 33,
   "outputs": [
    {
     "data": {
      "text/plain": "{'normal.': 97277,\n 'buffer_overflow.': 30,\n 'loadmodule.': 9,\n 'perl.': 3,\n 'neptune.': 107201,\n 'smurf.': 280790,\n 'guess_passwd.': 53,\n 'pod.': 264,\n 'teardrop.': 979,\n 'portsweep.': 1040,\n 'ipsweep.': 1247,\n 'land.': 21,\n 'ftp_write.': 8,\n 'back.': 2203,\n 'imap.': 12,\n 'satan.': 1589,\n 'phf.': 4,\n 'nmap.': 231,\n 'multihop.': 7,\n 'warezmaster.': 20,\n 'warezclient.': 1020,\n 'spy.': 2,\n 'rootkit.': 10}"
     },
     "execution_count": 33,
     "metadata": {},
     "output_type": "execute_result"
    }
   ],
   "source": [
    "# count the frequency of each label\n",
    "type_dict = {}\n",
    "for i in range(len(labels)):\n",
    "    if labels[i] in type_dict:\n",
    "        type_dict[labels[i]] += 1\n",
    "    else:\n",
    "        type_dict[labels[i]] = 1\n",
    "\n",
    "type_dict"
   ],
   "metadata": {
    "collapsed": false,
    "pycharm": {
     "name": "#%%\n"
    }
   }
  },
  {
   "cell_type": "code",
   "execution_count": 38,
   "outputs": [],
   "source": [
    "# Set up an array of k's from 1 to 100 and an array where we will store the objective function (inertia)\n",
    "k = np.linspace(1, 100, 100)\n",
    "inertia = []\n",
    "\n",
    "subset = 10000\n",
    "features = features[:subset]"
   ],
   "metadata": {
    "collapsed": false,
    "pycharm": {
     "name": "#%%\n"
    }
   }
  },
  {
   "cell_type": "code",
   "execution_count": 39,
   "outputs": [],
   "source": [
    "# Run kmeans for k in [1,100] and save the inertia (takes a while to finish)\n",
    "for i in k:\n",
    "    kmeans = KMeans(n_clusters=int(i)).fit(features)\n",
    "    inertia.append(kmeans.inertia_)"
   ],
   "metadata": {
    "collapsed": false,
    "pycharm": {
     "name": "#%%\n"
    }
   }
  },
  {
   "cell_type": "code",
   "execution_count": 40,
   "outputs": [
    {
     "data": {
      "text/plain": "<Figure size 432x288 with 1 Axes>",
      "image/png": "[encoded data removed]"
     },
     "metadata": {
      "needs_background": "light"
     },
     "output_type": "display_data"
    }
   ],
   "source": [
    "# Plot k against inertia in a log plot\n",
    "plt.plot(k, inertia)\n",
    "plt.yscale('log')\n",
    "plt.show()"
   ],
   "metadata": {
    "collapsed": false,
    "pycharm": {
     "name": "#%%\n"
    }
   }
  },
  {
   "cell_type": "code",
   "execution_count": 43,
   "outputs": [
    {
     "data": {
      "text/plain": "1523.457464020177"
     },
     "execution_count": 43,
     "metadata": {},
     "output_type": "execute_result"
    }
   ],
   "source": [
    "#subtask 2\n",
    "features_mean = np.mean(features, axis=0)\n",
    "features_dev = np.std(features)\n",
    "features_dev"
   ],
   "metadata": {
    "collapsed": false,
    "pycharm": {
     "name": "#%%\n"
    }
   }
  },
  {
   "cell_type": "code",
   "execution_count": 44,
   "outputs": [],
   "source": [
    "inertia = []\n",
    "for i in range(len(features)):\n",
    "    for j in range(len(features[i])):\n",
    "        features[i][j] = (features[i][j] - features_mean[j])/features_dev"
   ],
   "metadata": {
    "collapsed": false,
    "pycharm": {
     "name": "#%%\n"
    }
   }
  },
  {
   "cell_type": "code",
   "execution_count": 45,
   "outputs": [
    {
     "data": {
      "text/plain": "<Figure size 432x288 with 1 Axes>",
      "image/png": "[encoded data removed]"
     },
     "metadata": {
      "needs_background": "light"
     },
     "output_type": "display_data"
    }
   ],
   "source": [
    "for i in k:\n",
    "    kmeans = KMeans(n_clusters=int(i)).fit(features)\n",
    "    inertia.append(kmeans.inertia_)\n",
    "\n",
    "plt.plot(k, inertia)\n",
    "plt.yscale('log')\n",
    "plt.show()"
   ],
   "metadata": {
    "collapsed": false,
    "pycharm": {
     "name": "#%%\n"
    }
   }
  },
  {
   "cell_type": "code",
   "execution_count": null,
   "outputs": [],
   "source": [],
   "metadata": {
    "collapsed": false,
    "pycharm": {
     "name": "#%%\n"
    }
   }
  }
 ],
 "metadata": {
  "kernelspec": {
   "display_name": "Python 3",
   "language": "python",
   "name": "python3"
  },
  "language_info": {
   "codemirror_mode": {
    "name": "ipython",
    "version": 2
   },
   "file_extension": ".py",
   "mimetype": "text/x-python",
   "name": "python",
   "nbconvert_exporter": "python",
   "pygments_lexer": "ipython2",
   "version": "2.7.6"
  }
 },
 "nbformat": 4,
 "nbformat_minor": 0
}